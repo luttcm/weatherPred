{
 "cells": [
  {
   "cell_type": "code",
   "execution_count": 4,
   "id": "1ca07791-1675-4f47-af47-067fd8b488ba",
   "metadata": {},
   "outputs": [],
   "source": [
    "import requests\n",
    "import json"
   ]
  },
  {
   "cell_type": "code",
   "execution_count": 11,
   "id": "326d40fe-bca5-4461-9d9b-7308967bafed",
   "metadata": {},
   "outputs": [
    {
     "name": "stdin",
     "output_type": "stream",
     "text": [
      " смоленск\n"
     ]
    }
   ],
   "source": [
    "city = input().lower()\n",
    "city = city[0].upper() + city[1:]\n",
    "\n",
    "url = ('https://api.openweathermap.org/data/2.5/weather?q='+city+'&units=metric&lang=ru&appid=79d1ca96933b0328e1c7e3e7a26cb347')"
   ]
  },
  {
   "cell_type": "code",
   "execution_count": 12,
   "id": "ea714bea-dac3-4348-b646-3c01e1aed2f5",
   "metadata": {},
   "outputs": [],
   "source": [
    "weather_data = requests.get(url).json()\n",
    "weather_data_structure = json.dumps(weather_data, indent=2)"
   ]
  },
  {
   "cell_type": "code",
   "execution_count": null,
   "id": "baa10b4b-81c6-4961-bc7d-11bcc15b3ef1",
   "metadata": {},
   "outputs": [],
   "source": [
    "temperature = round(weather_data['main']['temp'])\n",
    "temperature_feels = round(weather_data['main']['feels_like'])\n",
    "wind_speed = round(weather_data['wind']['speed'])"
   ]
  },
  {
   "cell_type": "code",
   "execution_count": 14,
   "id": "bd7f9bd5-6c09-42bd-a6a8-751a6b462925",
   "metadata": {},
   "outputs": [
    {
     "name": "stdout",
     "output_type": "stream",
     "text": [
      "Сейчас в городе Смоленск 14 градусов\n",
      "Ощущается как 14 градусов\n",
      "Скорость ветра 6 м/с\n"
     ]
    }
   ],
   "source": [
    "print('Сейчас в городе', city, str(temperature), 'градусов')\n",
    "print('Ощущается как', str(temperature_feels), 'градусов')\n",
    "print('Скорость ветра', str(wind_speed), 'м/с')"
   ]
  },
  {
   "cell_type": "code",
   "execution_count": null,
   "id": "8b9bde99-53c4-4cb2-9ed7-ab9108eb13ed",
   "metadata": {},
   "outputs": [],
   "source": []
  },
  {
   "cell_type": "code",
   "execution_count": null,
   "id": "5732d906-a1b7-4de6-9f21-8867c4f31de2",
   "metadata": {},
   "outputs": [],
   "source": []
  }
 ],
 "metadata": {
  "kernelspec": {
   "display_name": "Python 3 (ipykernel)",
   "language": "python",
   "name": "python3"
  },
  "language_info": {
   "codemirror_mode": {
    "name": "ipython",
    "version": 3
   },
   "file_extension": ".py",
   "mimetype": "text/x-python",
   "name": "python",
   "nbconvert_exporter": "python",
   "pygments_lexer": "ipython3",
   "version": "3.9.7"
  }
 },
 "nbformat": 4,
 "nbformat_minor": 5
}
